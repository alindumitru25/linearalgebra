{
 "cells": [
  {
   "cell_type": "code",
   "execution_count": 1,
   "id": "938e44f4",
   "metadata": {},
   "outputs": [],
   "source": [
    "import numpy as np\n",
    "import matplotlib.pyplot as plt"
   ]
  },
  {
   "cell_type": "code",
   "execution_count": null,
   "id": "a6ead670",
   "metadata": {},
   "outputs": [],
   "source": [
    "# Challenge 1:\n",
    "# SVD vs eigendecomposition for square symmetric matrices.\n",
    "\n",
    "# create a symmetric matrix (5x5)\n",
    "A = np.random.randn(5, 5)\n",
    "A = A @ A.T\n",
    "\n",
    "# eig (W, L)\n",
    "\n",
    "\n",
    "# svd (U, S, V)\n",
    "\n",
    "# images of all matrices\n",
    "# compare U and V, and between U and W"
   ]
  }
 ],
 "metadata": {
  "kernelspec": {
   "display_name": "Python 3 (ipykernel)",
   "language": "python",
   "name": "python3"
  },
  "language_info": {
   "codemirror_mode": {
    "name": "ipython",
    "version": 3
   },
   "file_extension": ".py",
   "mimetype": "text/x-python",
   "name": "python",
   "nbconvert_exporter": "python",
   "pygments_lexer": "ipython3",
   "version": "3.8.13"
  }
 },
 "nbformat": 4,
 "nbformat_minor": 5
}
