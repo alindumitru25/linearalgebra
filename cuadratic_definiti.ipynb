{
 "cells": [
  {
   "cell_type": "code",
   "execution_count": 4,
   "metadata": {},
   "outputs": [],
   "source": [
    "import numpy as np\n",
    "import matplotlib.pyplot as plt"
   ]
  },
  {
   "cell_type": "code",
   "execution_count": 7,
   "metadata": {},
   "outputs": [
    {
     "name": "stdout",
     "output_type": "stream",
     "text": [
      "[[266]]\n"
     ]
    }
   ],
   "source": [
    "# matrix and vector\n",
    "S = [ [ 1,  3, -2], \n",
    "      [ 0,  3,  4],\n",
    "      [-5, -2,  4] ]\n",
    "\n",
    "w = np.transpose([ [-3, 4, 5] ])\n",
    "\n",
    "# compute the quadratic form\n",
    "qf = w.T@S@w\n",
    "\n",
    "print(qf)"
   ]
  },
  {
   "cell_type": "code",
   "execution_count": 8,
   "metadata": {},
   "outputs": [
    {
     "data": {
      "image/png": "[encoded data removed]",
      "text/plain": [
       "<Figure size 432x288 with 3 Axes>"
      ]
     },
     "metadata": {
      "needs_background": "light"
     },
     "output_type": "display_data"
    }
   ],
   "source": [
    "n = len(w) # used for plotting\n",
    "\n",
    "# show the matrices\n",
    "plt.subplot(131)\n",
    "plt.imshow(S)\n",
    "plt.axis('off')\n",
    "plt.title('Matrix S')\n",
    "\n",
    "plt.subplot(132)\n",
    "plt.imshow(w)\n",
    "plt.axis('off')\n",
    "plt.title('Vector w')\n",
    "\n",
    "plt.subplot(133)\n",
    "plt.imshow(qf)\n",
    "plt.title('Quadratic form: w$^T$Sw')\n",
    "plt.axis('off')\n",
    "\n",
    "plt.show()"
   ]
  },
  {
   "cell_type": "code",
   "execution_count": null,
   "metadata": {},
   "outputs": [],
   "source": []
  }
 ],
 "metadata": {
  "kernelspec": {
   "display_name": "Python 3.9.7 ('base')",
   "language": "python",
   "name": "python3"
  },
  "language_info": {
   "codemirror_mode": {
    "name": "ipython",
    "version": 3
   },
   "file_extension": ".py",
   "mimetype": "text/x-python",
   "name": "python",
   "nbconvert_exporter": "python",
   "pygments_lexer": "ipython3",
   "version": "3.9.7"
  },
  "orig_nbformat": 4,
  "vscode": {
   "interpreter": {
    "hash": "36abdc6e74477124f76acaaffc1043cea5cdce32096cf2b08355b47da8fd8d0b"
   }
  }
 },
 "nbformat": 4,
 "nbformat_minor": 2
}
