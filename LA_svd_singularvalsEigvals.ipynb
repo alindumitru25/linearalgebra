{
 "cells": [
  {
   "cell_type": "markdown",
   "metadata": {},
   "source": [
    "#     COURSE: Linear algebra: theory and implementation\n",
    "##    SECTION: Singular value decomposition\n",
    "###     VIDEO: Relation between singular values and eigenvalues\n",
    "\n",
    "#### Instructor: sincxpress.com\n",
    "##### Course url: https://www.udemy.com/course/linear-algebra-theory-and-implementation/?couponCode=202110"
   ]
  },
  {
   "cell_type": "code",
   "execution_count": 2,
   "metadata": {},
   "outputs": [],
   "source": [
    "import numpy as np\n",
    "import matplotlib.pyplot as plt"
   ]
  },
  {
   "cell_type": "code",
   "execution_count": 3,
   "metadata": {},
   "outputs": [
    {
     "name": "stdout",
     "output_type": "stream",
     "text": [
      "[ 0.          0.34314575 11.65685425]\n",
      "[ 0.34314575 11.65685425]\n"
     ]
    }
   ],
   "source": [
    "# case 1: eig(A'A) vs. svd(A)\n",
    "\n",
    "A = np.array([ [3,1,0], [1,1,0] ])\n",
    "\n",
    "print( np.sort(np.linalg.eig(A.T@A)[0]) )\n",
    "print( np.sort(np.linalg.svd(A)[1])**2 )"
   ]
  },
  {
   "cell_type": "code",
   "execution_count": null,
   "metadata": {},
   "outputs": [],
   "source": [
    "# case 2: eig(A'A) vs. svd(A'A)\n",
    "\n",
    "print(np.sort(np.linalg.eig(A.T@A)[0]))\n",
    "print(np.sort(np.linalg.svd(A.T@A)[1]))"
   ]
  },
  {
   "cell_type": "code",
   "execution_count": null,
   "metadata": {},
   "outputs": [],
   "source": [
    "# case 3a: eig(A) vs. svd(A), real-valued eigs\n",
    "\n",
    "# need a square matrix for eig\n",
    "A = [ [3,1,0], [1,1,0], [1,1,1]]\n",
    "\n",
    "print(np.sort(np.linalg.eig(A)[0]))\n",
    "print(np.sort(np.linalg.svd(A)[1]))"
   ]
  },
  {
   "cell_type": "code",
   "execution_count": null,
   "metadata": {},
   "outputs": [],
   "source": [
    "# case 3b: eig(A) vs. svd(A), complex eigs\n",
    "\n",
    "# random matrices are likely to give complex eigenvalues\n",
    "A = np.random.randn(3,3)\n",
    "\n",
    "print(np.sort(np.linalg.eig(A)[0]))\n",
    "print(np.sort(np.linalg.svd(A)[1]))"
   ]
  }
 ],
 "metadata": {
  "kernelspec": {
   "display_name": "Python 3.9.7 ('base')",
   "language": "python",
   "name": "python3"
  },
  "language_info": {
   "codemirror_mode": {
    "name": "ipython",
    "version": 3
   },
   "file_extension": ".py",
   "mimetype": "text/x-python",
   "name": "python",
   "nbconvert_exporter": "python",
   "pygments_lexer": "ipython3",
   "version": "3.9.7"
  },
  "vscode": {
   "interpreter": {
    "hash": "36abdc6e74477124f76acaaffc1043cea5cdce32096cf2b08355b47da8fd8d0b"
   }
  }
 },
 "nbformat": 4,
 "nbformat_minor": 2
}
