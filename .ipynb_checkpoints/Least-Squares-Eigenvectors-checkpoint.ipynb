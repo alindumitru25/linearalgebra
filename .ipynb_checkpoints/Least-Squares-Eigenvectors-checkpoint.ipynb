{
 "cells": [
  {
   "cell_type": "code",
   "execution_count": 1,
   "id": "fa3355b1",
   "metadata": {},
   "outputs": [],
   "source": [
    "import numpy as np\n",
    "import matplotlib.pyplot as plt"
   ]
  },
  {
   "cell_type": "code",
   "execution_count": 18,
   "id": "d5ecb514",
   "metadata": {},
   "outputs": [
    {
     "name": "stdout",
     "output_type": "stream",
     "text": [
      "[[0.40938217]\n",
      " [0.17547954]\n",
      " [0.19162885]]\n",
      "[[0.40938217]\n",
      " [0.17547954]\n",
      " [0.19162885]]\n"
     ]
    }
   ],
   "source": [
    "# challenge 1 - Least squares via QR decomposition\n",
    "# generate random data (X and y)\n",
    "# compare the results against standard left inverse method\n",
    "X = np.random.rand(20, 3);\n",
    "y = np.random.rand(20, 1);\n",
    "\n",
    "A1 = np.linalg.lstsq(X,y,rcond=None)\n",
    "print(A1[0])\n",
    "Q, R = np.linalg.qr(X);\n",
    "A2 = np.matmul(np.linalg.inv(np.matmul(R.transpose(), R)), np.matmul(np.matmul(Q, R).transpose(), y));\n",
    "# we can also write A2 as:\n",
    "# A2 = np.linalg.solve(R.T@R, (Q@R).T@y);\n",
    "print(A2)"
   ]
  },
  {
   "cell_type": "code",
   "execution_count": 6,
   "id": "8b1dfefe",
   "metadata": {},
   "outputs": [
    {
     "name": "stdout",
     "output_type": "stream",
     "text": [
      "[-1.  6.]\n"
     ]
    },
    {
     "name": "stderr",
     "output_type": "stream",
     "text": [
      "/Users/learning/opt/anaconda3/envs/notebook/lib/python3.8/site-packages/numpy/core/shape_base.py:65: VisibleDeprecationWarning: Creating an ndarray from ragged nested sequences (which is a list-or-tuple of lists-or-tuples-or ndarrays with different lengths or shapes) is deprecated. If you meant to do this, you must specify 'dtype=object' when creating the ndarray.\n",
      "  ary = asanyarray(ary)\n"
     ]
    },
    {
     "data": {
      "image/png": "[encoded data removed]",
      "text/plain": [
       "<Figure size 432x288 with 1 Axes>"
      ]
     },
     "metadata": {
      "needs_background": "light"
     },
     "output_type": "display_data"
    }
   ],
   "source": [
    "# eigenvalues\n",
    "A = [ [1, 5], [2, 4]]\n",
    "\n",
    "#extract the eigenvalues\n",
    "eigvals = np.linalg.eig(A)\n",
    "\n",
    "# note that the eigenvalues are in the first element of eigvals:\n",
    "print(eigvals[0])\n",
    "\n",
    "# specify two vectors\n",
    "v1 = np.array([1, 1]) # is an eigenvector!\n",
    "v2 = np.random.randn(2, 1) # unlikely to be an eigenvector\n",
    "v2 = v2/np.linalg.norm(v2) # unit length for convenience\n",
    "\n",
    "# compute Av\n",
    "Av1 = A@v1\n",
    "Av2 = A@v2\n",
    "\n",
    "# plot the vectors and Av\n",
    "plt.plot([0, v1[0]], [0, v1[1]], 'r')\n",
    "plt.plot([0, Av1[0]], [0, Av1[1]], 'r--')\n",
    "plt.plot([0, v2[0]], [0, v2[1]], 'k')\n",
    "plt.plot([0, Av2[0]], [0, Av2[1]], 'k--')\n",
    "\n",
    "plt.axis([-8,8, -8, 8])\n",
    "plt.show()"
   ]
  },
  {
   "cell_type": "code",
   "execution_count": 40,
   "id": "b81e0725",
   "metadata": {},
   "outputs": [
    {
     "name": "stdout",
     "output_type": "stream",
     "text": [
      "[0.30703413 0.63898542]\n",
      "[0.91299834 0.36894243 0.32323269 0.16102541 0.70531087 0.84511373\n",
      " 0.18139833 0.66419466 0.57979283 0.79861874]\n",
      "[-0.19793163  1.1319818  -1.95507934 -1.01922131]\n",
      "[-1.01922131 -1.95507934  1.1319818  -0.19793163]\n"
     ]
    }
   ],
   "source": [
    "# generate a diagonal matrix (2x2), compute its eigenvalues\n",
    "def getDiagEigenV(numb_N):\n",
    "    v = np.random.rand(numb_N)\n",
    "    diagM = np.diag(v)\n",
    "    eigvals = np.linalg.eig(diagM)\n",
    "    return eigvals\n",
    "\n",
    "eigvals1 = getDiagEigenV(2)\n",
    "print(eigvals1[0])\n",
    "\n",
    "# expand this to NxN diagonal matrices\n",
    "eigvals2 = getDiagEigenV(10)\n",
    "print(eigvals2[0])\n",
    "\n",
    "triN = 4\n",
    "# triangular matrices (lower, upper).\n",
    "trigM = np.random.randn(triN, triN)\n",
    "trigML = np.tril(trigM)\n",
    "trigMU = np.triu(trigM)\n",
    "\n",
    "eigvals3 = np.linalg.eig(trigML)\n",
    "eigvals4 = np.linalg.eig(trigMU)\n",
    "print(eigvals3[0])\n",
    "print(eigvals4[0])\n",
    "\n",
    "# see what patterns emerge"
   ]
  },
  {
   "cell_type": "code",
   "execution_count": null,
   "id": "34ff5857",
   "metadata": {},
   "outputs": [],
   "source": []
  },
  {
   "cell_type": "code",
   "execution_count": null,
   "id": "fe41708c",
   "metadata": {},
   "outputs": [],
   "source": []
  }
 ],
 "metadata": {
  "kernelspec": {
   "display_name": "Python 3 (ipykernel)",
   "language": "python",
   "name": "python3"
  },
  "language_info": {
   "codemirror_mode": {
    "name": "ipython",
    "version": 3
   },
   "file_extension": ".py",
   "mimetype": "text/x-python",
   "name": "python",
   "nbconvert_exporter": "python",
   "pygments_lexer": "ipython3",
   "version": "3.8.13"
  }
 },
 "nbformat": 4,
 "nbformat_minor": 5
}
